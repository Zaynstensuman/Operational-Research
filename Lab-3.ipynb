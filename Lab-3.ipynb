{
 "cells": [
  {
   "cell_type": "markdown",
   "id": "5aa7e64a",
   "metadata": {},
   "source": [
    "# Regression Assignment Solution\n",
    "This notebook contains solutions to the regression assignment tasks: linear, multiple, polynomial, and logistic regression."
   ]
  },
  {
   "cell_type": "markdown",
   "id": "40a8ac5a",
   "metadata": {},
   "source": [
    "Name: Suman Budhathoki\n",
    "Studenmt ID: 0284292"
   ]
  },
  {
   "cell_type": "code",
   "execution_count": null,
   "id": "618114ef",
   "metadata": {},
   "outputs": [],
   "source": [
    "import pandas as pd\n",
    "import numpy as np\n",
    "import matplotlib.pyplot as plt\n",
    "import seaborn as sns\n",
    "from sklearn.linear_model import LinearRegression, LogisticRegression\n",
    "from sklearn.preprocessing import PolynomialFeatures\n",
    "from sklearn.metrics import mean_squared_error, r2_score\n",
    "\n",
    "sns.set(style='whitegrid')"
   ]
  },
  {
   "cell_type": "code",
   "execution_count": null,
   "id": "fa908bdc",
   "metadata": {},
   "outputs": [],
   "source": [
    "df = pd.read_csv('https://raw.githubusercontent.com/nurfnick/Data_Sets_For_Stats/master/CuratedDataSets/hockey.csv')\n",
    "df.head()"
   ]
  },
  {
   "cell_type": "markdown",
   "id": "d7a2d274",
   "metadata": {},
   "source": [
    "## Linear Regression: Goals vs Points"
   ]
  },
  {
   "cell_type": "code",
   "execution_count": null,
   "id": "47e1566b",
   "metadata": {},
   "outputs": [],
   "source": [
    "X = df[['G']]\n",
    "y = df['PTS']\n",
    "lin_reg = LinearRegression().fit(X, y)\n",
    "\n",
    "print('Intercept:', lin_reg.intercept_)\n",
    "print('Coefficient:', lin_reg.coef_)\n",
    "\n",
    "# Predictions\n",
    "preds = lin_reg.predict(X)\n",
    "\n",
    "plt.scatter(X, y, label='Data')\n",
    "plt.plot(X, preds, color='red', label='Linear Fit')\n",
    "plt.xlabel('Goals')\n",
    "plt.ylabel('Points')\n",
    "plt.title('Linear Regression: Goals vs Points')\n",
    "plt.legend()\n",
    "plt.show()\n",
    "\n",
    "print('R^2:', r2_score(y, preds))"
   ]
  },
  {
   "cell_type": "markdown",
   "id": "ff40f3c6",
   "metadata": {},
   "source": [
    "## Multiple Regression: Goals + Assists vs Points"
   ]
  },
  {
   "cell_type": "code",
   "execution_count": null,
   "id": "1313ceff",
   "metadata": {},
   "outputs": [],
   "source": [
    "X_multi = df[['G','A']]\n",
    "y = df['PTS']\n",
    "\n",
    "multi_reg = LinearRegression().fit(X_multi, y)\n",
    "\n",
    "print('Intercept:', multi_reg.intercept_)\n",
    "print('Coefficients:', multi_reg.coef_)\n",
    "\n",
    "preds_multi = multi_reg.predict(X_multi)\n",
    "\n",
    "print('R^2:', r2_score(y, preds_multi))"
   ]
  },
  {
   "cell_type": "markdown",
   "id": "a43f423a",
   "metadata": {},
   "source": [
    "## Polynomial Regression: Quadratic (Goals vs Points)"
   ]
  },
  {
   "cell_type": "code",
   "execution_count": null,
   "id": "9e062373",
   "metadata": {},
   "outputs": [],
   "source": [
    "poly = PolynomialFeatures(degree=2)\n",
    "X_poly = poly.fit_transform(df[['G']])\n",
    "poly_reg = LinearRegression().fit(X_poly, y)\n",
    "\n",
    "print('Intercept:', poly_reg.intercept_)\n",
    "print('Coefficients:', poly_reg.coef_)\n",
    "\n",
    "preds_poly = poly_reg.predict(X_poly)\n",
    "\n",
    "plt.scatter(df['G'], y, label='Data')\n",
    "plt.scatter(df['G'], preds_poly, color='red', s=10, label='Poly Fit')\n",
    "plt.xlabel('Goals')\n",
    "plt.ylabel('Points')\n",
    "plt.title('Polynomial Regression (Quadratic): Goals vs Points')\n",
    "plt.legend()\n",
    "plt.show()\n",
    "\n",
    "print('R^2:', r2_score(y, preds_poly))"
   ]
  },
  {
   "cell_type": "markdown",
   "id": "e8d00a35",
   "metadata": {},
   "source": [
    "## Logistic Regression: Playoffs Prediction Based on Points"
   ]
  },
  {
   "cell_type": "code",
   "execution_count": null,
   "id": "a691a74a",
   "metadata": {},
   "outputs": [],
   "source": [
    "# Create a binary target: 1 if points > median, else 0\n",
    "threshold = df['PTS'].median()\n",
    "df['Playoffs'] = (df['PTS'] > threshold).astype(int)\n",
    "\n",
    "X_log = df[['PTS']]\n",
    "y_log = df['Playoffs']\n",
    "\n",
    "log_reg = LogisticRegression().fit(X_log, y_log)\n",
    "\n",
    "print('Intercept:', log_reg.intercept_)\n",
    "print('Coefficient:', log_reg.coef_)\n",
    "\n",
    "preds_log = log_reg.predict(X_log)\n",
    "\n",
    "plt.scatter(df['PTS'], y_log, label='Actual')\n",
    "plt.scatter(df['PTS'], preds_log, color='red', alpha=0.5, label='Predicted')\n",
    "plt.xlabel('Points')\n",
    "plt.ylabel('Playoffs (0/1)')\n",
    "plt.title('Logistic Regression: Playoffs Prediction')\n",
    "plt.legend()\n",
    "plt.show()"
   ]
  },
  {
   "cell_type": "markdown",
   "id": "c8e55f3c",
   "metadata": {},
   "source": [
    "## Analysis & Discussion\n",
    "- **Linear vs Multiple Regression:** Multiple regression (Goals + Assists) explains points better than goals alone.\n",
    "- **Polynomial Regression:** The quadratic model can capture curvature, but may risk overfitting compared to linear.\n",
    "- **Logistic Regression:** Provides a way to model playoff likelihood (binary outcome) from points.\n",
    "\n",
    "Overall, each model has trade-offs in interpretability and predictive power."
   ]
  }
 ],
 "metadata": {
  "language_info": {
   "name": "python"
  }
 },
 "nbformat": 4,
 "nbformat_minor": 5
}
