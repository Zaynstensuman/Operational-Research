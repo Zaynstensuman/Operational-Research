{
  "nbformat": 4,
  "nbformat_minor": 0,
  "metadata": {
    "colab": {
      "provenance": [],
      "include_colab_link": true
    },
    "kernelspec": {
      "name": "python3",
      "display_name": "Python 3"
    },
    "language_info": {
      "name": "python"
    }
  },
  "cells": [
    {
      "cell_type": "markdown",
      "metadata": {
        "id": "view-in-github",
        "colab_type": "text"
      },
      "source": [
        "<a href=\"https://colab.research.google.com/github/Zaynstensuman/Operational-Research/blob/main/Project_Assignments/RecursionAssignment.ipynb\" target=\"_parent\"><img src=\"https://colab.research.google.com/assets/colab-badge.svg\" alt=\"Open In Colab\"/></a>"
      ]
    },
    {
      "cell_type": "code",
      "source": [
        "Name: Suman Budhathoki\n",
        "Student id : 0284292\n",
        "Lab 05"
      ],
      "metadata": {
        "id": "qqC8cEi8mtmW"
      },
      "execution_count": null,
      "outputs": []
    },
    {
      "cell_type": "markdown",
      "source": [],
      "metadata": {
        "id": "c1YLnnIims4V"
      }
    },
    {
      "cell_type": "markdown",
      "source": [
        "# Recursion Assignment\n",
        "\n",
        "Solve the recursion\n",
        "$$\n",
        "f(n) = 7f(n-1)-10f(n-2)\\quad f(0) = 1\\quad f(1)=3\n",
        "$$\n",
        "\n",
        "1. Using mathematical method taught in class to get analytic equation.  Type up details and program function\n",
        "2. Using dynamic programming.\n",
        "3. Using dynamic programming and memoization.\n",
        "4. Compare the results of each function.  Discuss the advantages and disadvantages of each method.  Consider difficulty of solving and the time it would take to get the 1000 entry of the sequence in each of the three solutions."
      ],
      "metadata": {
        "id": "gxO997rzUWoK"
      }
    },
    {
      "cell_type": "code",
      "execution_count": null,
      "metadata": {
        "id": "mxuJ44JFUVog"
      },
      "outputs": [],
      "source": [
        "Analytic"
      ]
    },
    {
      "cell_type": "markdown",
      "source": [
        "Assume : f(n)= r ^ n\n",
        "then substituting it to the recursion.\n",
        "r ^ n = 7 * r^( n-1 ) - 10 r ^ ( n -2)\n",
        "or, r1 = 5, r2 = 2.\n",
        "\n",
        "now, solve for the values of r ,\n",
        "We get,\n",
        "or, r^2 - 7r + 10 =0\n",
        "or, (r-5)(r-2) = 0   \n",
        "So, r1 = 5, r2 = 2.\n",
        "\n"
      ],
      "metadata": {
        "id": "oyLVT2SaiOCd"
      }
    },
    {
      "cell_type": "markdown",
      "source": [
        "General solution:\n",
        "f(n) = A * 5^n + B * 2^n.\n",
        "\n",
        "Using the initial conditions given in the question :\n",
        "- f(0) = 1 ⇒ A + B = 1\n",
        "- f(1) = 3 ⇒ 5A + 2B = 3\n"
      ],
      "metadata": {
        "id": "QRyVg6tOjovc"
      }
    },
    {
      "cell_type": "markdown",
      "source": [
        "Solving\n",
        "(5A + 2B) - 2(A + B) = 3 - 2 ⇒ 3A = 1\n",
        "So, A = 1/3\n",
        "Then B = 1 - A = 2/3.\n",
        "\n",
        "So, A=1/3 & B= 2/3\n",
        "\n",
        "Inserting the values of A and B,\\\n",
        "We get,\n",
        "f(n) = (1/3) * 5^n + (2/3) * 2^n  =  (5^n + 2 * 2^n) / 3.\n"
      ],
      "metadata": {
        "id": "XSAYpjknj_fI"
      }
    },
    {
      "cell_type": "markdown",
      "source": [
        "## 2) Using Dynamic Programming"
      ],
      "metadata": {
        "id": "eHhgdnxEkPwh"
      }
    },
    {
      "cell_type": "code",
      "source": [
        "\n",
        "def f_dp(n: int) -> int:\n",
        "    # Iterative DP: O(n) time, O(1) space\n",
        "    if n == 0: return 1\n",
        "    if n == 1: return 3\n",
        "    a, b = 1, 3  # f(0), f(1)\n",
        "    for _ in range(2, n+1):\n",
        "        a, b = b, 7*b - 10*a\n",
        "    return b\n",
        "\n",
        "# CHECKING:\n",
        "print([f_dp(i) for i in range(10)])\n"
      ],
      "metadata": {
        "id": "EcO7e1Lskj2D"
      },
      "execution_count": null,
      "outputs": []
    },
    {
      "cell_type": "markdown",
      "source": [
        "## 3) Dynamic Programming + Memoization (Top-Down)"
      ],
      "metadata": {
        "id": "KyrYvw4Tlr49"
      }
    },
    {
      "cell_type": "code",
      "source": [
        "\n",
        "from functools import lru_cache\n",
        "\n",
        "@lru_cache(maxsize=None)\n",
        "def f_memo(n: int) -> int:\n",
        "    # Memoized recursion: O(n) time after caching, uses recursion depth n\n",
        "    if n == 0: return 1\n",
        "    if n == 1: return 3\n",
        "    return 7*f_memo(n-1) - 10*f_memo(n-2)\n",
        "\n",
        "# quick demo\n",
        "print([f_memo(i) for i in range(10)])\n"
      ],
      "metadata": {
        "id": "BI3jZPLClpZx"
      },
      "execution_count": null,
      "outputs": []
    },
    {
      "cell_type": "markdown",
      "source": [
        "## 4) Closed Form (for comparison only)"
      ],
      "metadata": {
        "id": "A07f6pgZkjfi"
      }
    },
    {
      "cell_type": "code",
      "source": [
        "\n",
        "def f_closed(n: int) -> int:\n",
        "    # Closed form: f(n) = (5^n + 2*2^n)//3 (exact integer arithmetic)\n",
        "    return (pow(5, n) + 2*pow(2, n)) // 3\n",
        "\n",
        "# quick demo\n",
        "print([f_closed(i) for i in range(10)])\n"
      ],
      "metadata": {
        "id": "gJ91lmv5mE4z"
      },
      "execution_count": null,
      "outputs": []
    },
    {
      "cell_type": "markdown",
      "source": [
        "## 5) Compare results + timing for n=1000\n"
      ],
      "metadata": {
        "id": "VwW9kaLJmJRF"
      }
    },
    {
      "cell_type": "code",
      "source": [
        "\n",
        "import time\n",
        "\n",
        "def time_one(fn, n):\n",
        "    t0 = time.perf_counter()\n",
        "    val = fn(n)\n",
        "    t1 = time.perf_counter()\n",
        "    return t1 - t0, val\n",
        "\n",
        "n = 1000\n",
        "t_dp,     v_dp     = time_one(f_dp, n)\n",
        "t_memo,   v_memo   = time_one(f_memo, n)\n",
        "t_closed, v_closed = time_one(f_closed, n)\n",
        "\n",
        "same = (v_dp == v_memo == v_closed)\n",
        "digits = len(str(v_dp))\n",
        "\n",
        "print(\"Values equal? \", same)\n",
        "print(\"f(1000) digits:\", digits)\n",
        "print(f\"DP (iter) time:   {t_dp:.6f} s\")\n",
        "print(f\"Memoized time:    {t_memo:.6f} s\")\n",
        "print(f\"Closed-form time: {t_closed:.6f} s\")\n"
      ],
      "metadata": {
        "id": "MBjT_F1UmRJn"
      },
      "execution_count": null,
      "outputs": []
    },
    {
      "cell_type": "markdown",
      "source": [
        "\n",
        "\n",
        "\n",
        "- **DP (Iterative):**  \n",
        "  - Time: O(n). For n=1000, ~1000 steps → fast.  \n",
        "  - Space: O(1).  \n",
        "  - Easy to code. No recursion issues.\n",
        "\n",
        "- **DP + Memoization (Top-Down):**  \n",
        "  - Time: O(n) after caching. Slightly slower than iterative due to recursion overhead.  \n",
        "  - Space: O(n) cache + recursion depth n (risk of recursion-limit issues for very large n).  \n",
        "  - Code mirrors the math definition.\n",
        "\n",
        "- **Closed Form (for comparison):**  \n",
        "  - Time: ~O(log n) via exponentiation—usually fastest and can jump directly to big n.  \n",
        "  - Space: O(1).  \n",
        "  - Requires deriving the formula first (not always possible for arbitrary recurrences).\n",
        "\n",
        "\n"
      ],
      "metadata": {
        "id": "SkZJlWnImUNy"
      }
    },
    {
      "cell_type": "markdown",
      "source": [],
      "metadata": {
        "id": "fFlx_HVZmOL1"
      }
    }
  ]
}